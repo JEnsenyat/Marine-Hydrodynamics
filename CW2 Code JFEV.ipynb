{
 "cells": [
  {
   "cell_type": "markdown",
   "metadata": {},
   "source": [
    "# Coursework 2 Question 2\n",
    "## Jaume Ensenyat"
   ]
  },
  {
   "cell_type": "code",
   "execution_count": 2,
   "metadata": {},
   "outputs": [],
   "source": [
    "import numpy as np\n",
    "import matplotlib.pyplot as plt \n",
    "import pandas as pd\n",
    "from scipy import integrate\n",
    "from scipy.optimize import fsolve\n",
    "from scipy import interpolate\n",
    "\n",
    "%matplotlib qt"
   ]
  },
  {
   "cell_type": "code",
   "execution_count": 3,
   "metadata": {},
   "outputs": [],
   "source": [
    "Y1 = np.linspace(0,5,11)                                     # defines data for half breadth given in the question (Sec. 1)\n",
    "Y12 = [i*-1 for i in Y1]                                     # defines the remaining breadth for the whole section (Sec. 1)\n",
    "Z1 = np.linspace(-10,0,11)                                   # defines data for draught given in the question. (Sec. 1)\n",
    "Y2 = [0.0,0.8,1.2,1.2,1.4,2.2,3.5,5.0,6.5,7.4]               # defines data for half breadth given in the question. (Sec. 2)\n",
    "Y22 = [i*-1 for i in Y2]                                     # defines the remaining breadth for the whole section (Sec. 2)\n",
    "Z2 = [-10.0,-9.7,-8.4,-6.1,-4.3,-2.1,-1.2,-0.55,-0.15,0.0]   # defines data for draught given in the question. (Sec. 2)"
   ]
  },
  {
   "cell_type": "code",
   "execution_count": 4,
   "metadata": {},
   "outputs": [
    {
     "name": "stdout",
     "output_type": "stream",
     "text": [
      "Area Section 1 = 50.0 m² , Area Section 2 = 37.92 m²\n"
     ]
    }
   ],
   "source": [
    "A1 = 2*abs(integrate.simps(Y1,Z1))      # integrates to find the area for half of Section 1 and then multiplies by 2\n",
    "A2 = 2*abs(integrate.simps(Y2,Z2))      # integrates to find the area for half of Section 2 and then multiplies by 2\n",
    "print('Area Section 1 =', round(A1,2), 'm\\u00b2', ', Area Section 2 =', round(A2,2), 'm\\u00b2')"
   ]
  },
  {
   "cell_type": "markdown",
   "metadata": {},
   "source": [
    "### For Section 1"
   ]
  },
  {
   "cell_type": "code",
   "execution_count": 5,
   "metadata": {},
   "outputs": [
    {
     "name": "stdout",
     "output_type": "stream",
     "text": [
      "For Section 1:\n",
      "a = -0.388  b = 0.165\n",
      "Lewis B/T = 1.0\n",
      "Lewis Cm = 0.5\n",
      "Lewis Area before scaling = 1.206 m²\n",
      "Scaled Lewis Area = 50.095 m²\n",
      "Error in Area = 0.19 %\n"
     ]
    },
    {
     "data": {
      "image/png": "[encoded data removed]",
      "text/plain": [
       "<Figure size 432x288 with 1 Axes>"
      ]
     },
     "metadata": {
      "needs_background": "light"
     },
     "output_type": "display_data"
    }
   ],
   "source": [
    "B1 = 10                                                  # original section breadth\n",
    "T1 = 10                                                  # original section draught\n",
    "B_T1 = B1/T1                                             # original section aspect ratio B/T\n",
    "Cm1 = A1/(B1*T1)                                         # original section midship coefficient Cm\n",
    "\n",
    "def B_T_Lewis(a,b):                                      # function to compute Lewis B/T\n",
    "    return (2*(1+a+b))/(1-a+b)\n",
    "\n",
    "def Cm_Lewis(a,b):                                       # function to compute Lewis Area and hence Cm\n",
    "    A = (np.pi/2)*(1-(a**2)-3*(b**2))\n",
    "    return A/((2*(1+a+b))*(1-a+b))\n",
    "\n",
    "def error(a,b,Cm,B_T):                                   # function to calculate the error between original and Lewis values\n",
    "    Cm_error = Cm-Cm_Lewis(a,b)\n",
    "    B_T_error = B_T-B_T_Lewis(a,b)\n",
    "    return (Cm_error,B_T_error)\n",
    "\n",
    "def f(x):                                                # creates a function f(x) for the error in terms of a and b\n",
    "    return error(a=x[0],b=x[1], Cm = Cm1 , B_T = B_T1)   \n",
    "\n",
    "x0 = (0,0)                                               \n",
    "a,b = fsolve(f,x0)                                       # finds the values of a and b for which f(x) = x0 (i.e. f(x)=0)\n",
    "\n",
    "print('For Section 1:')\n",
    "print('a =', round(a,3),' b =', round(b,3))\n",
    "print('Lewis B/T =', round(B_T_Lewis(a,b),2))\n",
    "print('Lewis Cm =', round(Cm_Lewis(a,b),3))\n",
    "print('Lewis Area before scaling =', round(Cm_Lewis(a,b)*((2*(1+a+b))*(1-a+b)),3), 'm\\u00b2')\n",
    "\n",
    "def zeta(theta):                                         # a function to evaluate the Lewis Section\n",
    "    return np.exp(1j*theta)+a*np.exp(-1j*theta)+b*np.exp(-3j*theta)\n",
    "\n",
    "theta1 = np.linspace(-np.pi,0)                           # defines a range of angles to evaluate the Lewis Section\n",
    "Z=[]\n",
    "\n",
    "for i in theta1:                                         # evaluates the mapping at each interval of theta\n",
    "    Z.append(zeta(i))\n",
    "\n",
    "Y_r1 = [np.real(i) for i in Z]                           # takes the real part of the mapping (i.e. breadth)\n",
    "Z_im1 = [np.imag(i) for i in Z]                          # takes the imaginary part of the mapping (i.e. draught)\n",
    "\n",
    "s1t = -T1/np.min(Z_im1)                                  # evaluates the scaling factor T0/T\n",
    "B1plt = [i*s1t for i in Y_r1]                            # scales the breadth to match the original section\n",
    "T1plt = [i*s1t for i in Z_im1]                           # scales the draught to match the original section\n",
    "\n",
    "print('Scaled Lewis Area =', round(Cm_Lewis(a,b)*((2*(1+a+b))*(1-a+b))*s1t**2,3), 'm\\u00b2')\n",
    "print('Error in Area =', round((Cm_Lewis(a,b)*((2*(1+a+b))*(1-a+b))*s1t**2-A1)/A1*100, 2), '%')\n",
    "\n",
    "plt.plot(B1plt,T1plt,'r-',label='Lewis Section')\n",
    "plt.plot(Y1,Z1,'k-',label='Original Section')\n",
    "plt.plot(Y12,Z1,'k-')\n",
    "plt.title('Section 1')\n",
    "plt.xlabel('Beam (m)')\n",
    "plt.ylabel('Draught (m)')\n",
    "plt.legend()\n",
    "plt.show()"
   ]
  },
  {
   "cell_type": "markdown",
   "metadata": {},
   "source": [
    "### For Section 2"
   ]
  },
  {
   "cell_type": "code",
   "execution_count": 6,
   "metadata": {},
   "outputs": [
    {
     "name": "stdout",
     "output_type": "stream",
     "text": [
      "For Section 2:\n",
      "a = -0.202  b = 0.353\n",
      "Lewis B/T = 1.48\n",
      "Lewis Cm = 0.256\n",
      "Lewis Area before scaling = 0.918 m²\n",
      "Scaled Lewis Area = 38.029 m²\n",
      "Error in Area = 0.29 %\n"
     ]
    },
    {
     "data": {
      "image/png": "[encoded data removed]",
      "text/plain": [
       "<Figure size 432x288 with 1 Axes>"
      ]
     },
     "metadata": {
      "needs_background": "light"
     },
     "output_type": "display_data"
    }
   ],
   "source": [
    "B2 = 14.8\n",
    "T2 = 10\n",
    "B_T2 = B2/T2\n",
    "Cm2 = A2/(B2*T2)\n",
    "\n",
    "def B_T_Lewis(a2,b2):\n",
    "    return (2*(1+a2+b2))/(1-a2+b2)\n",
    "\n",
    "def Cm_Lewis(a2,b2):\n",
    "    A = (np.pi/2)*(1-(a2**2)-3*(b2**2))\n",
    "    return A/((2*(1+a2+b2))*(1-a2+b2))\n",
    "\n",
    "def error(a2,b2,Cm,B_T):\n",
    "    Cm_error = Cm-Cm_Lewis(a2,b2)\n",
    "    B_T_error = B_T-B_T_Lewis(a2,b2)\n",
    "    return (Cm_error,B_T_error)\n",
    "\n",
    "def f(x):\n",
    "    return error(a2=x[0],b2=x[1], Cm = Cm2 ,B_T = B_T2)\n",
    "\n",
    "x0 = (0,0)\n",
    "a2,b2 = fsolve(f,x0)\n",
    "\n",
    "print('For Section 2:')\n",
    "print('a =', round(a2,3),' b =', round(b2,3))\n",
    "print('Lewis B/T =', round(B_T_Lewis(a2,b2),2))\n",
    "print('Lewis Cm =', round(Cm_Lewis(a2,b2),3))\n",
    "print('Lewis Area before scaling =', round(Cm_Lewis(a2,b2)*((2*(1+a2+b2))*(1-a2+b2)),3), 'm\\u00b2')\n",
    "\n",
    "def zeta2(theta):\n",
    "    return np.exp(1j*theta)+a2*np.exp(-1j*theta)+b2*np.exp(-3j*theta)\n",
    "\n",
    "theta2 = np.linspace(-np.pi,0)\n",
    "Z_2=[]\n",
    "\n",
    "for i in theta2:\n",
    "    Z_2.append(zeta2(i))\n",
    "\n",
    "Y_r2 = [np.real(i) for i in Z_2]\n",
    "Z_im2 = [np.imag(i) for i in Z_2]\n",
    "s2t = -T2/np.min(Z_im2)\n",
    "B2plt = [i*s2t for i in Y_r2]\n",
    "T2plt = [i*s2t for i in Z_im2]\n",
    "\n",
    "print('Scaled Lewis Area =', round(Cm_Lewis(a2,b2)*((2*(1+a2+b2))*(1-a2+b2))*s2t**2,3), 'm\\u00b2')\n",
    "print('Error in Area =', round((Cm_Lewis(a2,b2)*((2*(1+a2+b2))*(1-a2+b2))*s2t**2-A2)/A2*100, 2), '%')\n",
    "\n",
    "plt.plot(B2plt,T2plt,'r-',label='Lewis Section')\n",
    "plt.plot(Y2,Z2,'k-',label='Original Section')\n",
    "plt.plot(Y22,Z2,'k-')\n",
    "plt.title('Section 2')\n",
    "plt.xlabel('Beam (m)')\n",
    "plt.ylabel('Draught (m)')\n",
    "plt.legend()\n",
    "plt.show()"
   ]
  },
  {
   "cell_type": "code",
   "execution_count": 7,
   "metadata": {},
   "outputs": [
    {
     "name": "stdout",
     "output_type": "stream",
     "text": [
      "For Ellipse:\n",
      "a = 0.333  b = -0.0\n",
      "Lewis B/T = 4.0\n",
      "Lewis Cm = 0.785\n",
      "Lewis Area before scaling = 1.396 m²\n",
      "Scaled Lewis Area = 0.785 m²\n",
      "Error in Area = 0.0 %\n"
     ]
    },
    {
     "data": {
      "image/png": "[encoded data removed]",
      "text/plain": [
       "<Figure size 432x288 with 1 Axes>"
      ]
     },
     "metadata": {
      "needs_background": "light"
     },
     "output_type": "display_data"
    }
   ],
   "source": [
    "Btest = 2                       # ellipse with width 2\n",
    "Ttest = 0.5                     # ellipse with height 1, which has been divided by 2 to take the same form as a ship section\n",
    "B_Ttest = Btest/Ttest\n",
    "Atest = np.pi/4\n",
    "Cmtest = Atest/(Btest*Ttest)\n",
    "\n",
    "def B_T_Lewis(atest,btest):\n",
    "    return (2*(1+atest+btest))/(1-atest+btest)\n",
    "\n",
    "def Cm_Lewis(atest,btest):\n",
    "    A = (np.pi/2)*(1-(atest**2)-3*(btest**2))\n",
    "    return A/((2*(1+atest+btest))*(1-atest+btest))\n",
    "\n",
    "def error(atest,btest,Cm,B_T):\n",
    "    Cm_error = Cm-Cm_Lewis(atest,btest)\n",
    "    B_T_error = B_T-B_T_Lewis(atest,btest)\n",
    "    return (Cm_error,B_T_error)\n",
    "\n",
    "def f(x):\n",
    "    return error(atest=x[0],btest=x[1], Cm = Cmtest ,B_T = B_Ttest)\n",
    "\n",
    "x0 = (0,0)\n",
    "atest,btest = fsolve(f,x0)\n",
    "\n",
    "print('For Ellipse:')\n",
    "print('a =', round(atest,3),' b =', round(btest,3))\n",
    "print('Lewis B/T =', round(B_T_Lewis(atest,btest),2))\n",
    "print('Lewis Cm =', round(Cm_Lewis(atest,btest),3))\n",
    "print('Lewis Area before scaling =', round(Cm_Lewis(atest,btest)*((2*(1+atest+btest))*(1-atest+btest)),3), 'm\\u00b2')\n",
    "\n",
    "def zetatest(theta):\n",
    "    return np.exp(1j*theta)+atest*np.exp(-1j*theta)+btest*np.exp(-3j*theta)\n",
    "\n",
    "thetatest = np.arange(0,2*np.pi,0.01)      # range from 0 to 2pi since we are mapping a full ellipse and not a ship section\n",
    "Z_test=[]\n",
    "\n",
    "for i in thetatest:\n",
    "    Z_test.append(zetatest(i))\n",
    "\n",
    "Y_rtest = [np.real(i) for i in Z_test]\n",
    "Z_imtest = [np.imag(i) for i in Z_test]\n",
    "stest = -Ttest/np.min(Z_imtest)\n",
    "Btestplt = [i*stest for i in Y_rtest]\n",
    "Ttestplt = [i*stest for i in Z_imtest]\n",
    "\n",
    "print('Scaled Lewis Area =', round(Cm_Lewis(atest,btest)*((2*(1+atest+btest))*(1-atest+btest))*stest**2,3), 'm\\u00b2')\n",
    "print('Error in Area =',round((Cm_Lewis(atest,btest)*((2*(1+atest+btest))*(1-atest+btest))*stest**2-Atest)/Atest*100,2),'%')\n",
    "\n",
    "plt.plot(Btestplt,Ttestplt)\n",
    "plt.title('Ellipse Lewis Mapping')\n",
    "plt.xlabel('Y (m)')\n",
    "plt.ylabel('Z (m)')\n",
    "plt.gca().set_aspect('equal', adjustable='box')\n",
    "plt.show()\n"
   ]
  },
  {
   "cell_type": "code",
   "execution_count": 8,
   "metadata": {},
   "outputs": [
    {
     "name": "stdout",
     "output_type": "stream",
     "text": [
      "Myy Section 1: 30476.32 kg/m , c22 Section 1: 0.7571\n",
      "Myy Section 2: 67468.14 kg/m , c22 Section 2: 0.7652\n",
      "Myy Ellipse Lewis: 3220.15 kg/m , c22 Section 2: 1.0\n",
      "Myy Ellipse Newman: 3220.13 kg/m\n",
      "Percentage difference between Lewis and Newman Myy for Ellipse: 0.006 %\n"
     ]
    }
   ],
   "source": [
    "def added_mass(a,b,rho=1):                    # myy as defined in the notes\n",
    "    return (np.pi*rho/2)*((1+a)**2+3*b**2)\n",
    "\n",
    "def c22(myy, B, rho=1):                       # c22 as defined in Q2\n",
    "    return myy/(rho*np.pi*B**2/8)\n",
    "\n",
    "Myy1 = added_mass(a,b,1025)*s1t**2           \n",
    "Myy2 = added_mass(a2,b2,1025)*s2t**2\n",
    "Myytest = 2*added_mass(atest,btest,1025)*stest**2\n",
    "MyyNewmantest = 1025*np.pi*(Btest/2)**2\n",
    "perc_difftest = ((added_mass(atest,btest,1025)*2*stest**2-1025*np.pi)/1025*np.pi)*100\n",
    "\n",
    "print('Myy Section 1:', round(Myy1,2), 'kg/m , c22 Section 1:', round(c22(Myy1, B1, 1025),4))\n",
    "print('Myy Section 2:', round(Myy2,2), 'kg/m , c22 Section 2:', round(c22(Myy2, B2, 1025),4))\n",
    "print('Myy Ellipse Lewis:', round(Myytest,2), 'kg/m , c22 Section 2:', round(c22(Myytest/2, Btest, 1025),4))\n",
    "print('Myy Ellipse Newman:', round(MyyNewmantest,2), 'kg/m')\n",
    "print('Percentage difference between Lewis and Newman Myy for Ellipse:', round(perc_difftest,3), '%')\n"
   ]
  },
  {
   "cell_type": "markdown",
   "metadata": {},
   "source": [
    "### Percentage errors"
   ]
  },
  {
   "cell_type": "markdown",
   "metadata": {},
   "source": [
    "The absolute difference between the original and the Lewis section using discrete points is used as a measure of error in the geometry of the Lewis sections."
   ]
  },
  {
   "cell_type": "code",
   "execution_count": 9,
   "metadata": {},
   "outputs": [
    {
     "name": "stdout",
     "output_type": "stream",
     "text": [
      "Percentage difference Section 1 = 21.01 %\n",
      "Percentage difference Section 2 = 69.79 %\n"
     ]
    }
   ],
   "source": [
    "# Section 1\n",
    "theta1 = np.linspace(-np.pi/2,0,11)  # range for half a section\n",
    "Z=[]\n",
    "\n",
    "for i in theta1:\n",
    "    Z.append(zeta(i))\n",
    "\n",
    "Y_r1 = [np.real(i) for i in Z]                                \n",
    "Z_im1 = [np.imag(i) for i in Z]\n",
    "\n",
    "s1t = -T1/np.min(Z_im1)\n",
    "B1plt = [i*s1t for i in Y_r1]\n",
    "T1plt = [i*s1t for i in Z_im1]\n",
    "\n",
    "def f(z, Y, Z):                      # creates spline given Y, Z data and returns the half-breadth for a specified draught\n",
    "    tck = interpolate.splrep(Z, Y)\n",
    "    return interpolate.splev(z, tck)\n",
    "\n",
    "z = np.linspace(-10,0)                                 \n",
    "data1a = [f(i, Y1, Z1) for i in z]\n",
    "data1b = [f(i, B1plt, T1plt) for i in z]\n",
    "\n",
    "diff = [data1a[i]-data1b[i] for i in np.arange(0,50,1)]\n",
    "per_diff = [(diff[i]/data1a[i])*100 for i in np.arange(0,50,1)]\n",
    "per_diffabs = [abs(per_diff[i]) for i in np.arange(0,50,1)]\n",
    "print('Percentage difference Section 1 =', round(np.mean(per_diffabs),2), '%')\n",
    "\n",
    "# Section 2\n",
    "theta2 = np.linspace(-np.pi/2,0,10)\n",
    "Z_2=[]\n",
    "\n",
    "for i in theta2:\n",
    "    Z_2.append(zeta2(i))\n",
    "\n",
    "Y_r2 = [np.real(i) for i in Z_2]\n",
    "Z_im2 = [np.imag(i) for i in Z_2]\n",
    "s2t = -T2/np.min(Z_im2)\n",
    "B2plt = [i*s2t for i in Y_r2]\n",
    "T2plt = [i*s2t for i in Z_im2]\n",
    "\n",
    "z = np.linspace(-10,0)\n",
    "data2a = [f(i, Y2, Z2) for i in z]\n",
    "data2b = [f(i, B2plt, T2plt) for i in z]\n",
    "\n",
    "diff2 = [data2a[i]-data2b[i] for i in np.arange(0,50,1)]\n",
    "per_diff2 = [(diff2[i]/data2a[i])*100 for i in np.arange(0,50,1)]\n",
    "per_diff2abs = [abs(per_diff2[i]) for i in np.arange(0,50,1)]\n",
    "print('Percentage difference Section 2 =', round(np.mean(per_diff2abs),2), '%')\n"
   ]
  }
 ],
 "metadata": {
  "kernelspec": {
   "display_name": "Python 3",
   "language": "python",
   "name": "python3"
  },
  "language_info": {
   "codemirror_mode": {
    "name": "ipython",
    "version": 3
   },
   "file_extension": ".py",
   "mimetype": "text/x-python",
   "name": "python",
   "nbconvert_exporter": "python",
   "pygments_lexer": "ipython3",
   "version": "3.7.1"
  }
 },
 "nbformat": 4,
 "nbformat_minor": 2
}
